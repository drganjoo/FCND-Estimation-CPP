{
 "cells": [
  {
   "cell_type": "code",
   "execution_count": 19,
   "metadata": {},
   "outputs": [
    {
     "name": "stdout",
     "output_type": "stream",
     "text": [
      "time, Quad.GPS.X\n",
      "\n",
      "time, Quad.IMU.AX\n",
      "\n",
      "0.682349734839\n",
      "0.512945553338\n"
     ]
    }
   ],
   "source": [
    "import numpy as np\n",
    "import csv\n",
    "\n",
    "def read_data(filename):\n",
    "    data= []\n",
    "    with open(filename) as f:\n",
    "        # skip header\n",
    "        header = f.readline()\n",
    "        \n",
    "        # read each line and store the data column\n",
    "        reader = csv.reader(f)\n",
    "        for row in reader:\n",
    "            data.append(float(row[1]))\n",
    "            \n",
    "    return np.array(data)\n",
    "\n",
    "gps = read_data('./log/Graph1.txt')\n",
    "accel = read_data('./log/Graph2.txt')\n",
    "\n",
    "gps_sigma = np.std(gps, ddof=0.0)\n",
    "accel_sigma = np.std(accel, ddof=0.0)\n",
    "\n",
    "print(gps_sigma)\n",
    "print(accel_sigma)"
   ]
  },
  {
   "cell_type": "code",
   "execution_count": null,
   "metadata": {},
   "outputs": [],
   "source": [
    "# gps = []\n",
    "# accel = []\n",
    "\n",
    "# with open('Graph1.csv') as f:\n",
    "#     header = f.readline()\n",
    "#     reader = csv.reader(f)\n",
    "#     for row in reader:\n",
    "#         gps.append(float(row[1]))\n",
    "\n",
    "# with open('Graph2.txt') as f:\n",
    "#     f.readline()\n",
    "#     reader = csv.reader(f)\n",
    "#     for row in reader:\n",
    "#         accel.append(float(row[1]))\n",
    "\n",
    "# gps = np.array(gps)\n",
    "# accel = np.array(accel)\n",
    "# def compute_std(data):\n",
    "# #     mu = np.average(data)\n",
    "# #     s = np.sqrt(np.sum((data - mu) ** 2) / (data.shape[0]))\n",
    "#     return np.std(data)\n",
    "    \n",
    "# # print(gps.shape)\n",
    "# # print(gps[60:])\n",
    "# # print(np.sum(gps[:65]))\n",
    "# g_sigma = compute_std(gps)\n",
    "# a_sigma = compute_std(accel)\n",
    "\n",
    "# print(g_sigma)\n",
    "# print(a_sigma)"
   ]
  }
 ],
 "metadata": {
  "kernelspec": {
   "display_name": "Python 3",
   "language": "python",
   "name": "python3"
  },
  "language_info": {
   "codemirror_mode": {
    "name": "ipython",
    "version": 3
   },
   "file_extension": ".py",
   "mimetype": "text/x-python",
   "name": "python",
   "nbconvert_exporter": "python",
   "pygments_lexer": "ipython3",
   "version": "3.6.3"
  }
 },
 "nbformat": 4,
 "nbformat_minor": 2
}
